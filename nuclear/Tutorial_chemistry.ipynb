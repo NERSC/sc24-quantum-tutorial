{
 "cells": [
  {
   "cell_type": "markdown",
   "id": "9286643e-095a-4b6c-abe1-960d074c3fe3",
   "metadata": {},
   "source": [
    "# Quantum Chemistry Example\n",
    "## Putting Quantum Chemistry Hamiltonians on Quantum Hardware\n",
    "\n",
    "<table><tr>\n",
    "<td> <img src=\"chemistry1_SC24.png\" alt=\"Drawing\" style=\"width: 800px;\"/> </td>\n",
    "</tr></table>"
   ]
  },
  {
   "cell_type": "code",
   "execution_count": 1,
   "id": "a9f50830-2d5c-4002-8f05-1e19258ff49b",
   "metadata": {
    "tags": []
   },
   "outputs": [],
   "source": [
    "!pip install openfermion==1.6.1 -q #forgot to add this in the image!"
   ]
  },
  {
   "cell_type": "code",
   "execution_count": 2,
   "id": "a6b3728c-a6b5-4576-9d39-894896e11e18",
   "metadata": {
    "tags": []
   },
   "outputs": [],
   "source": [
    "import openfermion\n",
    "import openfermionpyscf\n",
    "from openfermion.transforms import jordan_wigner, get_fermion_operator\n",
    "\n",
    "import os\n",
    "import timeit\n",
    "\n",
    "import cudaq\n",
    "import matplotlib.pyplot as plt\n",
    "from scipy.optimize import minimize\n",
    "import numpy as np"
   ]
  },
  {
   "cell_type": "markdown",
   "id": "042f63a0-671f-4410-a601-6a89ed798dc4",
   "metadata": {},
   "source": [
    "Need to pick a molecule (below is water), define the geometry (can find many equilibrium geometries here: https://cccbdb.nist.gov/expgeom1x.asp), and pick the basis set:"
   ]
  },
  {
   "cell_type": "code",
   "execution_count": 3,
   "id": "79debc0a-a4a7-4a03-8036-e00f56241304",
   "metadata": {
    "tags": []
   },
   "outputs": [],
   "source": [
    "geometry = [('O', (0.1173, 0.0, 0.0)), ('H', (-0.4691, 0.7570, 0.0)),\n",
    "            ('H', (-0.4691, -0.7570, 0.0))]\n",
    "basis = 'sto3g' #let's use a very simple basis set to keep the number of qubits small\n",
    "multiplicity = 1\n",
    "charge = 0"
   ]
  },
  {
   "cell_type": "markdown",
   "id": "2182755a-b9d8-4b9f-9e29-62d091ced59f",
   "metadata": {},
   "source": [
    "Next we need to build the qubit Hamiltonian. We start by using pyscf to (1) do a Hartree-Fock (HF) calculation which solves for the molecular orbitals using the HF approximation (2) Computes one-electron and two-electron integrals, orbital energies, and other molecular properties (3) Saves the results back into the MolecularData object for further use (e.g., quantum calculations)."
   ]
  },
  {
   "cell_type": "code",
   "execution_count": 4,
   "id": "87e9e41a-1d73-4070-9d89-c7e52b99a109",
   "metadata": {
    "tags": []
   },
   "outputs": [],
   "source": [
    "#solve the Hartree-Fock equations\n",
    "molecule = openfermionpyscf.run_pyscf(\n",
    "    openfermion.MolecularData(geometry, basis, multiplicity, charge))"
   ]
  },
  {
   "cell_type": "code",
   "execution_count": 5,
   "id": "eed58fdd-b3c4-483f-b68d-1220a433a762",
   "metadata": {
    "tags": []
   },
   "outputs": [],
   "source": [
    "molecular_hamiltonian = molecule.get_molecular_hamiltonian()\n",
    "fermion_hamiltonian = get_fermion_operator(molecular_hamiltonian)"
   ]
  },
  {
   "cell_type": "markdown",
   "id": "dc842419-b28e-49d0-978b-1947bcb572a9",
   "metadata": {},
   "source": [
    "The above extracts the molecular Hamiltonian from the quantum chemistry calculation results stored in the molecule object and translates the molecular Hamiltonian into its fermionic operator form.. The form of the Hamiltonian is the following:\n",
    "$\n",
    "H = \\sum_{p, q} h_{pq} a_p^\\dagger a_q + \\frac{1}{2} \\sum_{p, q, r, s} h_{pqrs} a_p^\\dagger a_q^\\dagger a_r a_s \n",
    "$\n",
    "\n",
    "where \n",
    "\n",
    "\n",
    "$\\sum_{p, q} h_{pq} a_p^\\dagger a_q$ are the one-electron terms and\n",
    "\n",
    "$\\frac{1}{2} \\sum_{p, q, r, s} h_{pqrs} a_p^\\dagger a_q^\\dagger a_r a_s$ are the two-electron terms\n",
    "\n",
    "\n",
    "The Hamiltonian must then be converted to a qubit Hamiltonian consisting of qubit operators. In the below, the Jordan-Wigner transformation is used to perform this mapping, but others (such as Bravyi-Kitaev or parity)."
   ]
  },
  {
   "cell_type": "code",
   "execution_count": 6,
   "id": "e1793ea4-e875-4231-8d80-78083b933f50",
   "metadata": {
    "tags": []
   },
   "outputs": [
    {
     "name": "stderr",
     "output_type": "stream",
     "text": [
      "/tmp/ipykernel_1277046/1433847243.py:3: ComplexWarning: Casting complex values to real discards the imaginary part\n",
      "  spin_ham = cudaq.SpinOperator(qubit_hamiltonian)\n"
     ]
    }
   ],
   "source": [
    "qubit_hamiltonian = jordan_wigner(fermion_hamiltonian)\n",
    "\n",
    "spin_ham = cudaq.SpinOperator(qubit_hamiltonian) "
   ]
  },
  {
   "cell_type": "markdown",
   "id": "88924610-3f22-4087-beb1-abbd97501639",
   "metadata": {},
   "source": [
    "Next we are ready to define the quantum circuit for VQE to estimate the groundstate energy.  This is done in CUDA-Q by specifying a CUDA-Q kernel. The kernel takes as an input the number of qubits, the number of electrons, and the parameters of the circuit ansatz (form of the wavefunction) yet to be defined. \n",
    "\n",
    "The number of qubits will be equal to 2x the number of spatial orbitals constructed with the chosen basis set, as each can be occupied by two electrons (so circuit size will depend on the basis set!)."
   ]
  },
  {
   "cell_type": "code",
   "execution_count": 7,
   "id": "3f58c3d1-2661-402f-b69e-22f690dad9f2",
   "metadata": {
    "tags": []
   },
   "outputs": [
    {
     "name": "stdout",
     "output_type": "stream",
     "text": [
      "10\n",
      "14\n"
     ]
    }
   ],
   "source": [
    "electron_count = molecule.n_electrons\n",
    "qubit_count = 2 * molecule.n_orbitals\n",
    "print(electron_count)\n",
    "print(qubit_count)"
   ]
  },
  {
   "cell_type": "markdown",
   "id": "921d1d0d-3bb1-4a64-988e-6f067e7b4257",
   "metadata": {},
   "source": [
    "We will use the Hartree-Fock reference state as our starting state (which is a common starting state for many quantum algorithms trying to solve for the groundstate). The Hartree-Fock reference is constructed by applying $X$ bitflip operations to each of the $N$ first qubits where $N$ is the number of electrons. \n",
    "\n",
    "Next, a parameterized ansatz is chosen. Many ansatze are possible (hardware efficient, ADAPT, UCCSD...). It is often productive to use an ansatz that captures the underlying physics of the problem. The most common choice for chemistry is the Unitary Coupled Cluster Ansatz with Single and Double excitations (UCCSD). This UCCSD operations are automatically added to the kernel with the cudaq.kernels.uccsd(qubits, thetas, electron_num, qubit_num) function."
   ]
  },
  {
   "cell_type": "code",
   "execution_count": 8,
   "id": "9e342139-258b-48f4-8860-8b777ac05f12",
   "metadata": {
    "tags": []
   },
   "outputs": [
    {
     "name": "stdout",
     "output_type": "stream",
     "text": [
      "140\n"
     ]
    }
   ],
   "source": [
    "@cudaq.kernel\n",
    "def kernel(qubit_num: int, electron_num: int, thetas: list[float]):\n",
    "    qubits = cudaq.qvector(qubit_num)\n",
    "\n",
    "    for i in range(electron_num):\n",
    "        x(qubits[i])\n",
    "\n",
    "    cudaq.kernels.uccsd(qubits, thetas, electron_num, qubit_num)\n",
    "\n",
    "\n",
    "parameter_count = cudaq.kernels.uccsd_num_parameters(electron_count,\n",
    "                                                     qubit_count)\n",
    "\n",
    "print(parameter_count)"
   ]
  },
  {
   "cell_type": "markdown",
   "id": "29ceeaaf-9fa2-475f-9f50-7d7da93caeb5",
   "metadata": {},
   "source": [
    "The STO-3G water molecule UCCSD ansatz requires optimization of 140 parameters.\n",
    "\n",
    "Next we can define a cost function that the classical optimizer will minimize (below it computes the expectation value of the Hamiltonian):"
   ]
  },
  {
   "cell_type": "code",
   "execution_count": 9,
   "id": "3fbae4e3-814d-42ce-97af-1684d385abdf",
   "metadata": {
    "tags": []
   },
   "outputs": [],
   "source": [
    "def cost(theta):\n",
    "\n",
    "    exp_val = cudaq.observe(kernel, spin_ham, qubit_count, electron_count,\n",
    "                            theta).expectation()\n",
    "\n",
    "    return exp_val\n",
    "\n",
    "\n",
    "exp_vals = []\n",
    "\n",
    "\n",
    "def callback(xk):\n",
    "    exp_vals.append(cost(xk))\n",
    "\n",
    "\n",
    "# Initial variational parameters.\n",
    "np.random.seed(42)\n",
    "x0 = np.random.normal(0, 1, parameter_count)"
   ]
  },
  {
   "cell_type": "markdown",
   "id": "5f975ce2-44b2-4b2f-a72c-ef5950aa5d40",
   "metadata": {
    "tags": []
   },
   "source": [
    "Finally we need to pick an optimizer (below COBYLA--there is much discussion in the literature about good choices for the optimizer) and run the iteration:"
   ]
  },
  {
   "cell_type": "code",
   "execution_count": 11,
   "id": "50d49980-4ca6-40f5-b702-4bd88560f569",
   "metadata": {
    "tags": []
   },
   "outputs": [
    {
     "name": "stdout",
     "output_type": "stream",
     "text": [
      "UCCSD-VQE energy =   -70.21326908850246\n",
      "Total number of qubits =  14\n",
      "Total number of parameters =  140\n",
      "Total number of terms in the spin hamiltonian =  1086\n",
      "Total elapsed time (s) =  17.64947092102375\n"
     ]
    },
    {
     "data": {
      "image/png": "[encoded data removed]",
      "text/plain": [
       "<Figure size 640x480 with 1 Axes>"
      ]
     },
     "metadata": {},
     "output_type": "display_data"
    }
   ],
   "source": [
    "cudaq.set_target('nvidia')\n",
    "start_time = timeit.default_timer()\n",
    "result = minimize(cost,\n",
    "                  x0,\n",
    "                  method='COBYLA',\n",
    "                  callback=callback,\n",
    "                  options={'maxiter': 50})\n",
    "end_time = timeit.default_timer()\n",
    "\n",
    "print('UCCSD-VQE energy =  ', result.fun)\n",
    "print('Total number of qubits = ', qubit_count)\n",
    "print('Total number of parameters = ', parameter_count)\n",
    "print('Total number of terms in the spin hamiltonian = ',\n",
    "      spin_ham.get_term_count())\n",
    "print('Total elapsed time (s) = ', end_time - start_time)\n",
    "\n",
    "plt.plot(exp_vals)\n",
    "plt.xlabel('Epochs')\n",
    "plt.ylabel('Energy')\n",
    "plt.title('VQE')\n",
    "plt.show()"
   ]
  },
  {
   "cell_type": "markdown",
   "id": "409e4ef3-8386-4395-8838-42ab850518ba",
   "metadata": {},
   "source": [
    "The result is an estimate of the groundstate energy of water.\n",
    "\n",
    "\n",
    "In the above example, we included all the orbitals and electrons in the calculation. Often people will choose an active space for quantum chemistry calculations, where a subset of molecular orbitals (MOs) and electrons will be used while solving the Schrödinger equation. Most of the interesting chemistry can be modeled by restricting simulations to the highest energy occupied molecular orbitals and lowest energy unoccupied molecular orbitals. This is done to reduce computational cost while retaining the essential physics and chemistry of the problem. Using an active space means you can run VQE for the same molecule using fewer qubits and a more shallow circuit.\n",
    "\n",
    "<table><tr>\n",
    "<td> <img src=\"chemistry2_SC24.png\" alt=\"Drawing\" style=\"width: 500px;\"/> </td>\n",
    "</tr></table>\n",
    "\n",
    "The molecule is defined the same way, expect for you now include variables nele_cas and norb_cas to define the active space:"
   ]
  },
  {
   "cell_type": "code",
   "execution_count": 12,
   "id": "21fc01a3-2b88-4251-a659-47ccbe96b78f",
   "metadata": {
    "tags": []
   },
   "outputs": [],
   "source": [
    "geometry = [('O', (0.1173, 0.0, 0.0)), ('H', (-0.4691, 0.7570, 0.0)),\n",
    "            ('H', (-0.4691, -0.7570, 0.0))]\n",
    "basis = 'sto3g'\n",
    "multiplicity = 1\n",
    "charge = 0\n",
    "ncore = 3\n",
    "nele_cas, norb_cas = (4, 3)\n",
    "\n",
    "molecule = openfermionpyscf.run_pyscf(\n",
    "    openfermion.MolecularData(geometry, basis, multiplicity, charge))"
   ]
  },
  {
   "cell_type": "markdown",
   "id": "6690d1f2-075c-4cf7-87ce-dc030df8d9bd",
   "metadata": {},
   "source": [
    "The Hamiltonian is now constrcuted with the same steps, but only uses the active space."
   ]
  },
  {
   "cell_type": "code",
   "execution_count": 13,
   "id": "d4923d2e-61e3-4a30-9679-582a637b4fd2",
   "metadata": {
    "tags": []
   },
   "outputs": [
    {
     "name": "stderr",
     "output_type": "stream",
     "text": [
      "/tmp/ipykernel_1277046/1900341958.py:9: ComplexWarning: Casting complex values to real discards the imaginary part\n",
      "  spin_ham = cudaq.SpinOperator(qubit_hamiltonian)\n"
     ]
    }
   ],
   "source": [
    "molecular_hamiltonian = molecule.get_molecular_hamiltonian(\n",
    "    occupied_indices=range(ncore),\n",
    "    active_indices=range(ncore, ncore + norb_cas))\n",
    "\n",
    "fermion_hamiltonian = get_fermion_operator(molecular_hamiltonian)\n",
    "\n",
    "qubit_hamiltonian = jordan_wigner(fermion_hamiltonian)\n",
    "\n",
    "spin_ham = cudaq.SpinOperator(qubit_hamiltonian)"
   ]
  },
  {
   "cell_type": "markdown",
   "id": "1207e4c5-fb50-4323-af82-7797f552a066",
   "metadata": {
    "tags": []
   },
   "source": [
    "Similarly, the kernel is defined only by the orbitals and electrons in the active space meaning we only need to optimize 8 parameters now."
   ]
  },
  {
   "cell_type": "code",
   "execution_count": 15,
   "id": "81e1a34a-9811-4e38-bb4f-69248f8b9a76",
   "metadata": {
    "tags": []
   },
   "outputs": [
    {
     "name": "stdout",
     "output_type": "stream",
     "text": [
      "6\n",
      "8\n"
     ]
    }
   ],
   "source": [
    "electron_count = nele_cas\n",
    "qubit_count = 2 * norb_cas\n",
    "\n",
    "\n",
    "@cudaq.kernel\n",
    "def kernel(qubit_num: int, electron_num: int, thetas: list[float]):\n",
    "    qubits = cudaq.qvector(qubit_num)\n",
    "\n",
    "    for i in range(electron_num):\n",
    "        x(qubits[i])\n",
    "\n",
    "    cudaq.kernels.uccsd(qubits, thetas, electron_num, qubit_num)\n",
    "\n",
    "\n",
    "parameter_count = cudaq.kernels.uccsd_num_parameters(electron_count,\n",
    "                                                     qubit_count)\n",
    "\n",
    "print(qubit_count)\n",
    "print(parameter_count)"
   ]
  },
  {
   "cell_type": "code",
   "execution_count": 16,
   "id": "b818e139-5e4c-48ba-aa8d-c971f0e2c218",
   "metadata": {
    "tags": []
   },
   "outputs": [],
   "source": [
    "def cost(theta):\n",
    "\n",
    "    exp_val = cudaq.observe(kernel, spin_ham, qubit_count, electron_count,\n",
    "                            theta).expectation()\n",
    "    thetas = theta\n",
    "    return exp_val\n",
    "\n",
    "\n",
    "exp_vals = []\n",
    "\n",
    "\n",
    "def callback(xk):\n",
    "    exp_vals.append(cost(xk))\n",
    "\n",
    "\n",
    "# Initial variational parameters.\n",
    "np.random.seed(42)\n",
    "x0 = np.random.normal(0, 1, parameter_count)"
   ]
  },
  {
   "cell_type": "code",
   "execution_count": 17,
   "id": "64cb9358-27b2-46d7-a691-032229f33b34",
   "metadata": {
    "tags": []
   },
   "outputs": [
    {
     "name": "stdout",
     "output_type": "stream",
     "text": [
      "UCCSD-VQE energy =   -74.96333248875091\n",
      "Total number of qubits =  6\n",
      "Total number of parameters =  8\n",
      "Total number of terms in the spin hamiltonian =  62\n",
      "Total elapsed time (s) =  2.506197581999004\n"
     ]
    },
    {
     "data": {
      "image/png": "[encoded data removed]",
      "text/plain": [
       "<Figure size 640x480 with 1 Axes>"
      ]
     },
     "metadata": {},
     "output_type": "display_data"
    }
   ],
   "source": [
    "cudaq.set_target(\"nvidia\")\n",
    "\n",
    "start_time = timeit.default_timer()\n",
    "result = minimize(cost,\n",
    "                  x0,\n",
    "                  method='COBYLA',\n",
    "                  callback=callback,\n",
    "                  options={'maxiter': 500})\n",
    "end_time = timeit.default_timer()\n",
    "\n",
    "print('UCCSD-VQE energy =  ', result.fun)\n",
    "print('Total number of qubits = ', qubit_count)\n",
    "print('Total number of parameters = ', parameter_count)\n",
    "print('Total number of terms in the spin hamiltonian = ',\n",
    "      spin_ham.get_term_count())\n",
    "print('Total elapsed time (s) = ', end_time - start_time)\n",
    "\n",
    "plt.plot(exp_vals)\n",
    "plt.xlabel('Epochs')\n",
    "plt.ylabel('Energy')\n",
    "plt.title('VQE')\n",
    "plt.show()"
   ]
  },
  {
   "cell_type": "markdown",
   "id": "996bb102-8f33-4f4b-9e08-6754ea0393aa",
   "metadata": {
    "tags": []
   },
   "source": [
    "Note that the calculation occurs much faster now. \n",
    "\n",
    "Please see this part of the CUDA-Q docs for additional details (https://nvidia.github.io/cuda-quantum/latest/applications/python/vqe_advanced.html), and where much of this material was borrowed."
   ]
  },
  {
   "cell_type": "markdown",
   "id": "49565fdd-1767-4def-8c39-d49c62e0738e",
   "metadata": {},
   "source": [
    "The above can seem like a lot for solving one molecular system! We have developed a library, called HamLib, to simplify many of the steps above. The dataset is freely available online and contains problem sizes ranging from 2 to 1000 qubits. HamLib includes problem instances of the Heisenberg model, Fermi-Hubbard model, Bose-Hubbard model, molecular electronic structure, molecular vibrational structure, MaxCut, Max-k-SAT, Max-k-Cut, QMaxCut, and the traveling salesperson problem. The goals of this effort are (a) to save researchers time by eliminating the need to prepare problem instances and map them to qubit representations, (b) to allow for more thorough tests of new algorithms and hardware, and (c) to allow for reproducibility and standardization across research studies.\n",
    "\n",
    "<table><tr>\n",
    "<td> <img src=\"chemistry3_SC24.png\" alt=\"Drawing\" style=\"width: 800px;\"/> </td>\n",
    "</tr></table>\n",
    "\n",
    "\n",
    "<table><tr>\n",
    "<td> <img src=\"chemistry5_SC24.png\" alt=\"Drawing\" style=\"width: 800px;\"/> </td>\n",
    "</tr></table>\n",
    "\n",
    "\n",
    "The dataset can be found on NERSC servers at https://portal.nersc.gov/cfs/m888/dcamps/hamlib/. The paper descibring the dataset and how to extract the Hamiltonians can be found here: https://arxiv.org/abs/2306.13126"
   ]
  },
  {
   "cell_type": "code",
   "execution_count": null,
   "id": "2b5eeaff-6550-406f-8173-f85a328b223e",
   "metadata": {},
   "outputs": [],
   "source": []
  }
 ],
 "metadata": {
  "kernelspec": {
   "display_name": "SC24 CUDA Quantum",
   "language": "python",
   "name": "sc-cuda-quantum"
  },
  "language_info": {
   "codemirror_mode": {
    "name": "ipython",
    "version": 3
   },
   "file_extension": ".py",
   "mimetype": "text/x-python",
   "name": "python",
   "nbconvert_exporter": "python",
   "pygments_lexer": "ipython3",
   "version": "3.10.12"
  }
 },
 "nbformat": 4,
 "nbformat_minor": 5
}
